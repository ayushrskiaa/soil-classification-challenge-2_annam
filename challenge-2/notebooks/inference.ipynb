{
  "cells": [
    {
      "cell_type": "code",
      "execution_count": null,
      "metadata": {
        "id": "nG2h-3cWah1W"
      },
      "outputs": [],
      "source": [
        "\"\"\"\n",
        "\n",
        "Author: Annam.ai IIT Ropar\n",
        "Team Name: KrishiSetu\n",
        "Team Members: Dnyandeep Chute,Ayush Kumar, Suyash Mishra, Krish Kalgude, Yash Verma\n",
        "\n",
        "\n",
        "\"\"\"\n",
        "\n",
        "# This is the notebook used for making the inferences using the model trained."
      ]
    },
    {
      "cell_type": "code",
      "execution_count": null,
      "metadata": {},
      "outputs": [],
      "source": [
        "import os\n",
        "import pandas as pd\n",
        "import torch\n",
        "from torch.utils.data import DataLoader\n",
        "from torchvision.models import resnet18, ResNet18_Weights\n",
        "from tqdm import tqdm\n",
        "\n",
        "from src.preprocessing import SoilDataset, label_map, inv_label_map\n",
        "\n",
        "TEST_CSV = \"/kaggle/input/soil-classification/soil_classification-2025/test_ids.csv\"\n",
        "TEST_IMG_DIR = \"/kaggle/input/soil-classification/soil_classification-2025/test\"\n",
        "\n",
        "DEVICE = torch.device('cuda' if torch.cuda.is_available() else 'cpu')\n",
        "BATCH_SIZE = 32\n",
        "\n",
        "weights = ResNet18_Weights.DEFAULT\n",
        "transform = weights.transforms()\n",
        "\n",
        "test_df = pd.read_csv(TEST_CSV)\n",
        "test_dataset = SoilDataset(test_df, TEST_IMG_DIR, transform=transform, is_test=True)\n",
        "test_loader = DataLoader(test_dataset, batch_size=BATCH_SIZE, shuffle=False)\n",
        "\n",
        "model = resnet18(weights=weights)\n",
        "model.fc = torch.nn.Linear(model.fc.in_features, len(label_map))\n",
        "model.load_state_dict(torch.load(\"model.pth\", map_location=DEVICE))\n",
        "model = model.to(DEVICE)\n",
        "model.eval()\n",
        "\n",
        "predictions = []\n",
        "with torch.no_grad():\n",
        "    for images, image_ids in tqdm(test_loader, desc=\"Predicting\"):\n",
        "        images = images.to(DEVICE)\n",
        "        outputs = model(images)\n",
        "        _, preds = torch.max(outputs, 1)\n",
        "        preds = preds.cpu().numpy()\n",
        "        for img_id, pred in zip(image_ids, preds):\n",
        "            predictions.append({\n",
        "                'image_id': img_id,\n",
        "                'soil_type': inv_label_map[pred]\n",
        "            })\n",
        "\n",
        "submission = pd.DataFrame(predictions)\n",
        "submission.to_csv(\"submission.csv\", index=False)\n",
        "print(\"Submission saved as submission.csv\")\n"
      ]
    }
  ],
  "metadata": {
    "colab": {
      "provenance": []
    },
    "kernelspec": {
      "display_name": "Python 3",
      "name": "python3"
    },
    "language_info": {
      "name": "python"
    }
  },
  "nbformat": 4,
  "nbformat_minor": 0
}
