{
  "cells": [
    {
      "cell_type": "code",
      "execution_count": null,
      "metadata": {
        "id": "nG2h-3cWah1W"
      },
      "outputs": [],
      "source": [
        "\"\"\"\n",
        "\n",
        "Author: Annam.ai IIT Ropar\n",
        "Team Name: KrishiSetu\n",
        "Team Members: Dnyandeep Chute,Ayush Kumar, Suyash Mishra, Krish Kalgude, Yash Verma\n",
        "\n",
        "\n",
        "\"\"\"\n",
        "\n",
        "# This is the notebook used for training the model."
      ]
    },
    {
      "cell_type": "code",
      "execution_count": null,
      "metadata": {},
      "outputs": [],
      "source": [
        "import os\n",
        "import pandas as pd\n",
        "import torch\n",
        "import torch.nn as nn\n",
        "from torch.utils.data import DataLoader, random_split\n",
        "from torchvision.models import resnet18, ResNet18_Weights\n",
        "from sklearn.metrics import f1_score\n",
        "from tqdm import tqdm\n",
        "\n",
        "from torchvision import transforms\n",
        "from src.preprocessing import SoilDataset\n",
        "\n",
        "BATCH_SIZE = 32\n",
        "NUM_CLASSES = 4\n",
        "DEVICE = torch.device('cuda' if torch.cuda.is_available() else 'cpu')\n",
        "EPOCHS = 10\n",
        "\n",
        "TRAIN_CSV = \"/kaggle/input/soil-classification/soil_classification-2025/train_labels.csv\"\n",
        "TRAIN_IMG_DIR = \"/kaggle/input/soil-classification/soil_classification-2025/train\"\n",
        "\n",
        "weights = ResNet18_Weights.DEFAULT\n",
        "transform = weights.transforms()\n",
        "\n",
        "train_df = pd.read_csv(TRAIN_CSV)\n",
        "full_train_dataset = SoilDataset(train_df, TRAIN_IMG_DIR, transform=transform)\n",
        "\n",
        "val_size = int(0.2 * len(full_train_dataset))\n",
        "train_size = len(full_train_dataset) - val_size\n",
        "train_dataset, val_dataset = random_split(full_train_dataset, [train_size, val_size])\n",
        "\n",
        "train_loader = DataLoader(train_dataset, batch_size=BATCH_SIZE, shuffle=True)\n",
        "val_loader = DataLoader(val_dataset, batch_size=BATCH_SIZE, shuffle=False)\n",
        "\n",
        "model = resnet18(weights=weights)\n",
        "model.fc = nn.Linear(model.fc.in_features, NUM_CLASSES)\n",
        "model = model.to(DEVICE)\n",
        "\n",
        "criterion = nn.CrossEntropyLoss()\n",
        "optimizer = torch.optim.Adam(model.parameters(), lr=0.0003)\n",
        "\n",
        "for epoch in range(EPOCHS):\n",
        "    model.train()\n",
        "    running_loss = 0.0\n",
        "    for images, labels in tqdm(train_loader, desc=f\"Epoch {epoch+1}/{EPOCHS}\"):\n",
        "        images, labels = images.to(DEVICE), labels.to(DEVICE)\n",
        "\n",
        "        optimizer.zero_grad()\n",
        "        outputs = model(images)\n",
        "        loss = criterion(outputs, labels)\n",
        "        loss.backward()\n",
        "        optimizer.step()\n",
        "        running_loss += loss.item()\n",
        "\n",
        "    avg_loss = running_loss / len(train_loader)\n",
        "\n",
        "    model.eval()\n",
        "    val_preds, val_labels = [], []\n",
        "    with torch.no_grad():\n",
        "        for images, labels in val_loader:\n",
        "            images = images.to(DEVICE)\n",
        "            outputs = model(images)\n",
        "            _, preds = torch.max(outputs, 1)\n",
        "            val_preds.extend(preds.cpu().numpy())\n",
        "            val_labels.extend(labels.numpy())\n",
        "\n",
        "    val_f1 = f1_score(val_labels, val_preds, average='macro')\n",
        "    print(f\"Epoch {epoch+1} Loss: {avg_loss:.4f} | Validation F1 Score: {val_f1:.4f}\")\n",
        "\n",
        "torch.save(model.state_dict(), \"model.pth\")\n"
      ]
    }
  ],
  "metadata": {
    "colab": {
      "provenance": []
    },
    "kernelspec": {
      "display_name": "Python 3",
      "name": "python3"
    },
    "language_info": {
      "name": "python"
    }
  },
  "nbformat": 4,
  "nbformat_minor": 0
}
